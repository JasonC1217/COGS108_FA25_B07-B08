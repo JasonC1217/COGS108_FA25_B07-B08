{
 "cells": [
  {
   "cell_type": "markdown",
   "id": "01a2f0d7-497d-4a1c-a9ee-f5eb3b9ac169",
   "metadata": {
    "deletable": false,
    "editable": false,
    "nbgrader": {
     "cell_type": "markdown",
     "checksum": "68843a2e9abc547f7c765bbba20a8e21",
     "grade": false,
     "grade_id": "cell-065ebcb0dc4d24cc",
     "locked": true,
     "schema_version": 3,
     "solution": false,
     "task": false
    },
    "slideshow": {
     "slide_type": ""
    },
    "tags": []
   },
   "source": [
    "# COGS 108 - Discusison Lab Exercise 1: Conda & git / GitHub\n",
    "\n",
    "This assignment covers basic usage of git / GitHub, and getting a working Conda envirornment on your local computer. \n",
    "\n",
    "This assignment is out of 2 points\n",
    "\n",
    "\n",
    "### Discussion lab exercise rules\n",
    "Discussion labs are meant to be a place for you to learn and explore. It is ok for you to ask questions of other students and your TAs or seek information beyond the classroom environment. If you use AI assistance, please make sure you understand the solution and can reproduce it on your own. \n",
    "\n",
    "### AUTOGRADER WARNINGS\n",
    "\n",
    "This notebook will be graded automatically, its easy to do things that break the autograder and prevent you from getting the points you deserve.\n",
    "\n",
    "- DO NOT change the name of this file\n",
    "- DO NOT copy-paste or delete entire cells\n",
    "    - You CAN add additional cells, if you want to test things out or need a scratch pad\n",
    "- Follow directions carefully, typos and mistakes will lose points\n",
    "- Save regularly, autosave is unreliable\n",
    "- When you are finished save and on the pull-down menu choose Kernel->Restart Kernel and Run all.  Check to make sure all your code executed without error; with notebooks it's possible to have out of order execution which can lead you to think that your code works when it really doesn't\n",
    "- Don't forget to submit this notebook on the Assignments tab. The UI is terrible, its easy to press the wrong button and resubmit an old exercise instead of submitting this one. Make sure you see a new submission timestamp on THIS exercise before you log off.\n",
    "\n",
    "### How to complete assignments\n",
    "\n",
    "Whenever you see:\n",
    "\n",
    "```python\n",
    "# YOUR CODE HERE\n",
    "raise NotImplementedError()\n",
    "```\n",
    "\n",
    "You need to **replace** these lines of code with some code that answers the question correctly. Make sure you remove the 'raise' line or even your correct answer will still lose points!!\n",
    "\n",
    "The answer needs to be in this cell (the one with `# YOUR CODE HERE`), but you can also add extra cells to explore / investigate things if you need / want to. \n",
    "\n",
    "### How to Score Points\n",
    "\n",
    "Any cell with `assert` statements in it is a test cell. You should not try to change or delete these cells. Note that there might be more than one assert that tests a particular question, and there may be some additional hidden `assert` statements to test your code that you cannot see.\n",
    "\n",
    "Reading assert errors if and when they fail is a great way to debug your code and find out what went wrong.\n",
    "\n",
    "Note that some cells, including the test cells, may be read only, which means they won't let you edit them. If you cannot edit a cell - that is normal, and you shouldn't need to edit that cell.\n",
    "\n",
    "All outside packages/modules that will be used will be specified. You may not use other libraries in the assignments.\n",
    "\n",
    "Finally, note that questions have points as specified in the detailed instructions. "
   ]
  },
  {
   "cell_type": "markdown",
   "id": "70d1a703-1a5b-4bb1-b8e5-5e0177a2c183",
   "metadata": {
    "deletable": false,
    "editable": false,
    "nbgrader": {
     "cell_type": "markdown",
     "checksum": "95521aabefc602b88a66ac701c61a518",
     "grade": false,
     "grade_id": "cell-c2197b955c7eb59b",
     "locked": true,
     "schema_version": 3,
     "solution": false,
     "task": false
    }
   },
   "source": [
    "## Part I - Installing Python and managing virtual environments using Anaconda\n",
    "\n",
    "It is very helpful to have a local copy of Python instead of always relying on Datahub. That's our main goal here. Now we could just download Python and some other tools and be done, but that's going to cause problems for you later.\n",
    "\n",
    "Programming professionals don't have just one set of tools.  Sometimes your project depends on features only found in Python 3.9 and later, and sometimes your project relies on an older library that won't work with anything newer than Python 3.7  \n",
    "\n",
    "If you're going to become a professional who uses programming on many different projects you will quickly realize you can't have just one installation. You need to have one environment for project A, and a different environment for project B, etc.. This is why there are many different solutions for creating and switching between *virtual environments*.\n",
    "\n",
    "[Anaconda](https://anaconda.org/) is a Python distribution (Python plus a bunch of tools and libraries) that is popular in the Data Science / Machine Learning field. It's built on top of `conda`, an open source virtual environment manager. We are going to learn some conda basics in this section while getting you to install Python on your local system \n",
    "\n",
    "When you create a new environment using `conda` you tell it what packages you want in there, e.g. Python, pandas, mysql, etc.. If you don't specify which version number for a package it will use the newest available version that works given the other packages you're choosing (there are sometimes dependencies between packages). You can specify partial version numbers (python=3 or python=3.9) or full version numbers (python=3.9.11).  If you specify only a partial version number `conda` will take the newest usable version that matches the partial number.  You can create new environments directly on the command line (see Q2) or through a YAML file which defines the environment setup.  A YAML file is what we will use below to do...  \n",
    "\n",
    "### Installation and setup\n",
    "\n",
    "If you DO NOT have `git` installed on your local machine please do so first.\n",
    "\n",
    "If you DO NOT have a current Anaconda installation already on your machine then download and install Anaconda on your local machine\n",
    "https://www.anaconda.com/download\n",
    "\n",
    "1) Open a terminal window.  Exactly how you do this will be different depending on your operating system. A little searching should show you how.\n",
    "1) Change directory to someplace in your filesystem that you would find useful to hold COGS 108 related materials\n",
    "1) type `git clone https://github.com/COGS108/Resources.git` <br> this repo contains a file that describes a conda environment that will mimic the setup we have on Datahub\n",
    "1) type `cd Resources` so we can use that file to create your new COGS108 environment\n",
    "1) familiarize yourself with the documentation on how to use conda to create a new python environment https://docs.conda.io/projects/conda/en/latest/user-guide/tasks/manage-environments.html#\n",
    "1) open the file \"conda_env_COGS108_FA25.yml\" in a file editor of your choice and take a look at it.  Try to understand how it works to specify exactly what version of each package it is going to install in the environment. If you need help understanding the file, ask questions of your TA or try reading the first part of this https://carpentries-incubator.github.io/introduction-to-conda-for-data-scientists/04-sharing-environments/index.html    \n",
    "1) OK let's make the new conda environment! In your terminal type `conda env create -f conda_env_COGS108_FA25.yml --solver=libmamba`\n",
    "1) If the command above produces any errors, ask for help from a TA during the discussion section or come to office hours or post a full bug report to the D1 tag on Ed. <br> If making a bug report include a screenshot or copy/paste of\n",
    "    - the conda create command,\n",
    "    - its error message,\n",
    "    - the outputs of the terminal command `conda --version`\n",
    "    - the outputs of the terminal command `uname -a`\n",
    "1) If no errors happened lets see the environments you have available to you.  Type `conda env list` and one of them should be \"COGS108_FA25\"\n",
    "2) OK lets try out the new environment.  Type `conda activate COGS108_FA25`\n",
    "3) Double check that your new environment works by typing `jupyter-lab` and after a few moments you should get a new web browser window with a local copy of Jupyter!\n",
    "4) We don't need the Jupyter server right now... the only goal is to make sure you have it ready for another day.  After seeing that Jupyter is working, go to the pull down menus, choose File -> Shut Down and close the browser window when it says you're allowed to.\n",
    "5) Lets leave the COGS 108 environment and go back to the base conda environment.  In the terminal window type `conda activate base`.  In the future if you open a new terminal window it will default to being in the base environment\n",
    "\n",
    "**DANGER DANGER** A word of caution **DANGER DANGER**\n",
    "\n",
    "Do not mess around with your base environment if you can avoid it.  If you screw up your base environment your conda itself may stop working right.  I have done this, it sucks to figure out wtf is even going on, and then it sucks more to delete everything and start over.\n",
    "\n",
    "So make a new working environment for each and every project and make sure you are in the correct environment when you're working. If you need some new package for a project, install it in the relevant working environment.  If the install screws something up in a working environment, then it's no big deal, you can always try again with a new one.  But if these random packages screws up the base... Well we warned you :) "
   ]
  },
  {
   "cell_type": "markdown",
   "id": "759dc510-a385-44ab-a44c-319a4254c3e6",
   "metadata": {
    "deletable": false,
    "editable": false,
    "nbgrader": {
     "cell_type": "markdown",
     "checksum": "67c9ee9f07223298c0d2e628f581056c",
     "grade": false,
     "grade_id": "cell-ff125ebbf637abe0",
     "locked": true,
     "schema_version": 3,
     "solution": false,
     "task": false
    }
   },
   "source": [
    "### Q1 (0.2 points)\n",
    "\n",
    "Which of the following choices shows you the terminal commands to correctly get into your COGS108 environment and start a Jupyter notebook whenever you need it.  FYI: In a terminal, putting two commands on a single line seperated by a  `;` is the same thing as pressing return in between the two commands \n",
    "\n",
    "A) `conda start COGS108_FA25; jupyter-lab`<br>\n",
    "B) `conda activate; jupyter-lab`<br>\n",
    "C) `conda activate COGS108_FA25; jupytr`<br>\n",
    "D) `conda activate COGS108_FA25; jupyter-lab`<br>\n",
    "\n",
    "Encode your answer in a string variable named `Q1` using the cell immediately below.  Make sure your answer passes the autograder tests in the cell after that!"
   ]
  },
  {
   "cell_type": "code",
   "execution_count": null,
   "id": "4318e1c0-f4a4-4e33-8531-4ce6dc26274c",
   "metadata": {
    "deletable": false,
    "nbgrader": {
     "cell_type": "code",
     "checksum": "7e1c6eae12f4ea8fec134405709d51a9",
     "grade": false,
     "grade_id": "cell-d6f3e5890e916615",
     "locked": false,
     "schema_version": 3,
     "solution": true,
     "task": false
    }
   },
   "outputs": [],
   "source": [
    "# YOUR CODE HERE\n",
    "raise NotImplementedError()"
   ]
  },
  {
   "cell_type": "code",
   "execution_count": null,
   "id": "69494cb0-a101-4a6d-b245-4180e2384704",
   "metadata": {
    "deletable": false,
    "editable": false,
    "nbgrader": {
     "cell_type": "code",
     "checksum": "db440fcd0ec17d9d8573016b0b114622",
     "grade": true,
     "grade_id": "cell-19353113982ed038",
     "locked": true,
     "points": 0.2,
     "schema_version": 3,
     "solution": false,
     "task": false
    }
   },
   "outputs": [],
   "source": [
    "# Autograder tests. \n",
    "# If this cell executes with no output you passed the tests!\n",
    "assert Q1, \"variable Q1 does not exist\"\n",
    "assert isinstance(Q1,str), \"variable Q1 is not a string variable\"\n",
    "assert Q1 in ['A', 'B', 'C', 'D'], \"variable Q1 is not one of the allowed multiple choice answers\"\n"
   ]
  },
  {
   "cell_type": "markdown",
   "id": "feaa5fcd-13af-45cb-95cd-637919b12c3c",
   "metadata": {
    "deletable": false,
    "editable": false,
    "nbgrader": {
     "cell_type": "markdown",
     "checksum": "dd78a13f879083f273c844a3e52f3ae7",
     "grade": false,
     "grade_id": "cell-9c2474a40b8f4e86",
     "locked": true,
     "schema_version": 3,
     "solution": false,
     "task": false
    }
   },
   "source": [
    "### Q2 (0.2 points)\n",
    "\n",
    "Look at the first section of the conda documentation here https://docs.conda.io/projects/conda/en/latest/user-guide/tasks/manage-environments.html#\n",
    "\n",
    "What one line command would make a new conda environment called \"my_project\" that has the following setup?\n",
    "\n",
    "- python = 3.12\n",
    "- pandas (newest version)\n",
    "- dask (newset version)\n",
    "\n",
    "Put your answer in a string called Q2\n"
   ]
  },
  {
   "cell_type": "code",
   "execution_count": null,
   "id": "4d0d93ab-1474-46c5-8a8a-fc427ca01774",
   "metadata": {
    "deletable": false,
    "nbgrader": {
     "cell_type": "code",
     "checksum": "79a2ed8cf6d9ca390938dc9aebec135d",
     "grade": false,
     "grade_id": "cell-585ba3f5c9a43ea6",
     "locked": false,
     "schema_version": 3,
     "solution": true,
     "task": false
    }
   },
   "outputs": [],
   "source": [
    "# YOUR CODE HERE\n",
    "raise NotImplementedError()"
   ]
  },
  {
   "cell_type": "code",
   "execution_count": null,
   "id": "feb31519-929a-4f86-94bf-af945da18084",
   "metadata": {
    "deletable": false,
    "editable": false,
    "nbgrader": {
     "cell_type": "code",
     "checksum": "2a037b9d1476cb7774647564bf8c3e7a",
     "grade": true,
     "grade_id": "cell-9759b9cf63f68234",
     "locked": true,
     "points": 0.2,
     "schema_version": 3,
     "solution": false,
     "task": false
    }
   },
   "outputs": [],
   "source": [
    "# Autograder tests. \n",
    "# If this cell executes with no output you passed the tests!\n",
    "\n",
    "assert Q2, \"variable Q2 does not exist\"\n",
    "assert isinstance(Q2,str), \"variable Q2 is not a string variable\"\n",
    "assert Q2.startswith('conda'), \"variable Q2 is not a conda command\"\n",
    "assert 'create' in Q2, \"Variable Q2 doesn't create an environment\"\n"
   ]
  },
  {
   "cell_type": "markdown",
   "id": "00ad53d8-b7e2-4c42-b3d7-ba1fd3767822",
   "metadata": {
    "deletable": false,
    "editable": false,
    "nbgrader": {
     "cell_type": "markdown",
     "checksum": "9f244ee515f01c7958f29f564949e523",
     "grade": false,
     "grade_id": "cell-9e35290bc7513ac2",
     "locked": true,
     "schema_version": 3,
     "solution": false,
     "task": false
    }
   },
   "source": [
    "## Q3 (0.2 points)\n",
    "\n",
    "Look at the documentation here https://docs.conda.io/projects/conda/en/latest/user-guide/tasks/manage-pkgs.html#\n",
    "\n",
    "Lets say you have an existing conda environment named \"my_project\" that needs the package seaborn, but doesn't have it installed right now. \n",
    "\n",
    "Pick the choice below that shows how could you add the newest available seaborn, assuming you are currently in the base environment.\n",
    "\n",
    "A) `conda activate my_project; conda install seaborn`<br>\n",
    "B) `conda install seaborn`<br>\n",
    "C) `conda install -n my_project seaborn`<br>\n",
    "D) answers A and C are both correct <br>\n",
    "E) all of the above are correct\n",
    "\n",
    "Put your answer in a string called Q3"
   ]
  },
  {
   "cell_type": "code",
   "execution_count": null,
   "id": "e9475556-66e8-49d8-a8ff-82d1d20b0a97",
   "metadata": {
    "deletable": false,
    "nbgrader": {
     "cell_type": "code",
     "checksum": "ac6159bb4005b3bd8b446b10235958e2",
     "grade": false,
     "grade_id": "cell-90ef16c52b5435b2",
     "locked": false,
     "schema_version": 3,
     "solution": true,
     "task": false
    }
   },
   "outputs": [],
   "source": [
    "# YOUR CODE HERE\n",
    "raise NotImplementedError()"
   ]
  },
  {
   "cell_type": "code",
   "execution_count": null,
   "id": "b6faa6cc-beff-4a95-adff-34b5708a364d",
   "metadata": {
    "deletable": false,
    "editable": false,
    "nbgrader": {
     "cell_type": "code",
     "checksum": "e240ef8e5821ca066d0926630545b842",
     "grade": true,
     "grade_id": "cell-2b2c00036ffe597f",
     "locked": true,
     "points": 0.2,
     "schema_version": 3,
     "solution": false,
     "task": false
    }
   },
   "outputs": [],
   "source": [
    "# Autograder tests. \n",
    "# If this cell executes with no output you passed the tests!\n",
    "assert Q3, \"variable Q3 does not exist\"\n",
    "assert isinstance(Q3,str), \"variable Q3 is not a string variable\"\n",
    "assert Q3 in ['A', 'B', 'C', 'D', 'E'], \"variable Q3 is not one of the allowed multiple choice answers\"\n"
   ]
  },
  {
   "cell_type": "markdown",
   "id": "b80b42b2-cc0d-4d5d-ae06-c04d1742b661",
   "metadata": {
    "deletable": false,
    "editable": false,
    "nbgrader": {
     "cell_type": "markdown",
     "checksum": "4c68b107cb73adda3a70f42f159d4f15",
     "grade": false,
     "grade_id": "cell-dfe0f894a7d644d6",
     "locked": true,
     "schema_version": 3,
     "solution": false,
     "task": false
    }
   },
   "source": [
    "### Q4 (0.2 points)\n",
    "\n",
    "Lets verify that you've got a good installation of the COGS 108 environment.\n",
    "\n",
    "First off activate the COGS 108 environment.  Now lets see what version of statsmodels you have installed.  Type `conda list statsmodels` and place the version number in a STRING called Q4.  "
   ]
  },
  {
   "cell_type": "code",
   "execution_count": null,
   "id": "5ce25551-26ca-4e89-b061-d5efb8946419",
   "metadata": {
    "deletable": false,
    "editable": true,
    "nbgrader": {
     "cell_type": "code",
     "checksum": "c9695183da3e2d4e96c530ee1bac81f3",
     "grade": false,
     "grade_id": "cell-a3635af2329cbdab",
     "locked": false,
     "schema_version": 3,
     "solution": true,
     "task": false
    },
    "slideshow": {
     "slide_type": ""
    },
    "tags": []
   },
   "outputs": [],
   "source": [
    "# YOUR CODE HERE\n",
    "raise NotImplementedError()"
   ]
  },
  {
   "cell_type": "code",
   "execution_count": null,
   "id": "26cdc179-9214-4557-93d6-aac2194165fb",
   "metadata": {
    "deletable": false,
    "editable": false,
    "nbgrader": {
     "cell_type": "code",
     "checksum": "3ce69cb8edbeb29079d9fe9a66c7f840",
     "grade": true,
     "grade_id": "cell-46ef1d49482f7128",
     "locked": true,
     "points": 0.2,
     "schema_version": 3,
     "solution": false,
     "task": false
    }
   },
   "outputs": [],
   "source": [
    "# Autograder tests. \n",
    "# If this cell executes with no output you passed the tests!\n",
    "\n",
    "assert Q4, \"variable Q4 does not exist\"\n",
    "assert isinstance(Q4,str), \"variable Q4 is not a string variable... you probably made Q4 a float accidentally!\"\n"
   ]
  },
  {
   "cell_type": "markdown",
   "id": "817cf9c4-0c88-40f4-96f0-b3e430064bc6",
   "metadata": {
    "deletable": false,
    "editable": false,
    "nbgrader": {
     "cell_type": "markdown",
     "checksum": "c4728d45f3ddc27b1dc110cb85c00b0f",
     "grade": false,
     "grade_id": "cell-b1235631b0f61617",
     "locked": true,
     "schema_version": 3,
     "solution": false,
     "task": false
    }
   },
   "source": [
    "### Q5 (0.2 points)\n",
    "\n",
    "You now know how to switch between environments (activate). You also know how to list what version of a library you have in the current environment.\n",
    "\n",
    "So what's the difference between the python version in your base environment and the python version in your COGS 108 environment?\n",
    "\n",
    "A) They are the same <br>\n",
    "B) base > COGS 108 version <br>\n",
    "C) COGS 108 > base version <br>\n",
    "D) I can't figure out how to answer this\n",
    "\n",
    "Place your answer as a string in a variable called Q5"
   ]
  },
  {
   "cell_type": "code",
   "execution_count": null,
   "id": "b8a24372-6c30-4bf4-8333-17272114ba9b",
   "metadata": {
    "deletable": false,
    "nbgrader": {
     "cell_type": "code",
     "checksum": "b5d294e6c89b652faee4ecc0ef0cc051",
     "grade": false,
     "grade_id": "cell-fe5cbd5fd80512fd",
     "locked": false,
     "schema_version": 3,
     "solution": true,
     "task": false
    }
   },
   "outputs": [],
   "source": [
    "# YOUR CODE HERE\n",
    "raise NotImplementedError()"
   ]
  },
  {
   "cell_type": "code",
   "execution_count": null,
   "id": "ff7b4cfd-f76a-44c4-adb6-efb0dec109f3",
   "metadata": {
    "deletable": false,
    "editable": false,
    "nbgrader": {
     "cell_type": "code",
     "checksum": "0af64f6fc02c49381c0aee26b7873010",
     "grade": true,
     "grade_id": "cell-60750d4fdb0716d1",
     "locked": true,
     "points": 0.2,
     "schema_version": 3,
     "solution": false,
     "task": false
    }
   },
   "outputs": [],
   "source": [
    "# Autograder tests. \n",
    "# If this cell executes with no output you passed the tests!\n",
    "assert Q5, \"variable Q5 does not exist\"\n",
    "assert isinstance(Q5,str), \"variable Q5 is not a string variable\"\n",
    "assert Q5 in ['A', 'B', 'C', 'D'], \"variable Q5 is not one of the allowed multiple choice answers\"\n"
   ]
  },
  {
   "cell_type": "markdown",
   "id": "9bede4d9-8b1c-4743-bf77-709074da043a",
   "metadata": {
    "deletable": false,
    "editable": false,
    "nbgrader": {
     "cell_type": "markdown",
     "checksum": "336372433d3f9ad935a2969d365c40ef",
     "grade": false,
     "grade_id": "cell-ea19d068cd3f49e1",
     "locked": true,
     "schema_version": 3,
     "solution": false,
     "task": false
    }
   },
   "source": [
    "## Part II - Git and GitHub\n",
    "\n",
    "If you are new to Github and git, the following link may be helpful:\n",
    "[Get Started](https://docs.github.com/en/get-started)\n",
    "\n",
    "In this section, we will get familiar using Github and Git for version control. Git is very helpful for tracking changes in your code files, who made those changes, and collaborating with others for coding. Github is the platform that uses Git to host your files, changes, and collaboration on the internet. \n",
    "\n",
    "We will go over some of the most common Github tasks: \n",
    "- branch\n",
    "- add\n",
    "- commit\n",
    "- merge\n",
    "- pull request\n",
    "by having you complete the [Github Skills Intro](https://github.com/skills/introduction-to-github).  Open the link and follow the instructions in the repository README. There are several steps, and for a beginner this may take 10 to 30 minutes to complete the skills intro. \n",
    "\n",
    "The Skills Intro uses a cool trick to walk you through the steps... every time you complete a task it uses a GitHub Actions automation to trigger an update of the instructions in the README to show you the next thing you need to complete.\n",
    "\n",
    "\n",
    "**Some Important Notes** \n",
    "\n",
    "- Follow every step exactly as written in the GitHub Skills tutorial README.\n",
    "- The instructions suggest you should open two windows on the Skills Intro... one to keep the instructions visible to you and another to actually execute the steps.  This is very important... once you try to do something (commit, pull request, etc) you will be on a new webpage and the instructions disappear.  Its hard to keep all the steps in your head, so its crticial to have a 2nd window open with the instructions for when you need to double check things\n",
    "- Use the **exact file names**, **branch names**, and **commit messages** provided in the instructions; deviations can cause your progress to fail the hidden tests and result in point deductions.\n",
    "- **Do not rename files, use your own messages, or skip any steps.** Keep following the instructions until the README tells you \"Congratulations, you've completed this course and joined the world of developers!\"\n",
    "- When you start the Skills Intro it makes a fork as the first step... **make sure your forked repository is public.** This allows the grading script to verify your completion. If you make your fork private you will get zero points."
   ]
  },
  {
   "cell_type": "markdown",
   "id": "d740fba7-4cb5-42af-aa95-0726fe28efa1",
   "metadata": {
    "deletable": false,
    "editable": false,
    "nbgrader": {
     "cell_type": "markdown",
     "checksum": "45f91c4a80a082b6d228f9e5914cc5f3",
     "grade": false,
     "grade_id": "cell-e06bf05415ca22ca",
     "locked": true,
     "schema_version": 3,
     "solution": false,
     "task": false
    }
   },
   "source": [
    "### Q6 (1 point)\n",
    "\n",
    "Once you've completed the exercise, please provide us your Github username to validate the completion of the Github Skills Introduction. In the cell below, provide your Github username (not the email address you used to make your account) as a string in the variable ```github_username```. "
   ]
  },
  {
   "cell_type": "code",
   "execution_count": null,
   "id": "d326cecd-1d73-448f-92e0-fc5390be81c6",
   "metadata": {
    "deletable": false,
    "nbgrader": {
     "cell_type": "code",
     "checksum": "3700c6cbbde365f49f603d2ad0e5790e",
     "grade": false,
     "grade_id": "cell-3e5eaf5783d7da2b",
     "locked": false,
     "schema_version": 3,
     "solution": true,
     "task": false
    }
   },
   "outputs": [],
   "source": [
    "# YOUR CODE HERE\n",
    "raise NotImplementedError()"
   ]
  },
  {
   "cell_type": "code",
   "execution_count": null,
   "id": "d5313c08-8029-4d88-ba48-6ef44c567a0f",
   "metadata": {
    "deletable": false,
    "editable": false,
    "nbgrader": {
     "cell_type": "code",
     "checksum": "8835ef193aba461752225e8e91b42c97",
     "grade": true,
     "grade_id": "cell-fdf42ac0898e4c4b",
     "locked": true,
     "points": 0.5,
     "schema_version": 3,
     "solution": false,
     "task": false
    }
   },
   "outputs": [],
   "source": [
    "# Autograder tests\n",
    "# If this cell executes with no output, you passed the tests!\n",
    "assert github_username, 'Github username is not entered'\n",
    "assert type(github_username) == str, 'Username is not a string variable'\n"
   ]
  },
  {
   "cell_type": "code",
   "execution_count": null,
   "id": "c0d6aa96-d89b-44b4-82ab-c52cfc73fbe5",
   "metadata": {
    "deletable": false,
    "editable": false,
    "nbgrader": {
     "cell_type": "code",
     "checksum": "46b28d9ca967391cebff299db8f7a4a7",
     "grade": true,
     "grade_id": "cell-8d0eb9ca91be5462",
     "locked": true,
     "points": 0.5,
     "schema_version": 3,
     "solution": false,
     "task": false
    },
    "slideshow": {
     "slide_type": ""
    },
    "tags": []
   },
   "outputs": [],
   "source": [
    "# This cell contains hidden autograder tests\n",
    "# do not delete, move, or edit it!\n"
   ]
  },
  {
   "cell_type": "markdown",
   "id": "d80fd104-67bb-4f4b-b6ed-4c8ca7c53259",
   "metadata": {
    "deletable": false,
    "editable": false,
    "nbgrader": {
     "cell_type": "markdown",
     "checksum": "fe5a03faa419f0a4ebd70c2df72960cf",
     "grade": false,
     "grade_id": "cell-a59915a4aa0b8c64",
     "locked": true,
     "schema_version": 3,
     "solution": false,
     "task": false
    }
   },
   "source": [
    "## End of Discussion Lab Exercise #1\n",
    "\n",
    "When you think you're done, verify that everything is working correctly by doing the following:\n",
    "1. Save this notebook\n",
    "2. Choose the pull down menu item Kernel -> Restart and Run All Cells\n",
    "3. Check that you see the print statement in the cell below. If you see that happy sunglasses face emoji, it means that you have passed all the publicly visible tests. Yay!! "
   ]
  },
  {
   "cell_type": "code",
   "execution_count": null,
   "id": "2c5221f1-9308-49ed-9b89-9d694458a136",
   "metadata": {
    "deletable": false,
    "editable": false,
    "nbgrader": {
     "cell_type": "code",
     "checksum": "3fdc4073a37ea66b999232f24bb9353c",
     "grade": false,
     "grade_id": "cell-f225fa4812eec715",
     "locked": true,
     "schema_version": 3,
     "solution": false,
     "task": false
    }
   },
   "outputs": [],
   "source": [
    "print(\"\\N{SMILING FACE WITH SUNGLASSES}\")"
   ]
  }
 ],
 "metadata": {
  "kernelspec": {
   "display_name": "Python 3 (ipykernel)",
   "language": "python",
   "name": "python3"
  },
  "language_info": {
   "codemirror_mode": {
    "name": "ipython",
    "version": 3
   },
   "file_extension": ".py",
   "mimetype": "text/x-python",
   "name": "python",
   "nbconvert_exporter": "python",
   "pygments_lexer": "ipython3",
   "version": "3.11.9"
  }
 },
 "nbformat": 4,
 "nbformat_minor": 5
}
